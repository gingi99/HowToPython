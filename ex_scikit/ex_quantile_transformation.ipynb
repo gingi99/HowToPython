{
 "cells": [
  {
   "cell_type": "code",
   "execution_count": 7,
   "metadata": {},
   "outputs": [],
   "source": [
    "import numpy as np\n",
    "from sklearn.preprocessing import quantile_transform\n",
    "import matplotlib.pyplot as plt\n",
    "%matplotlib inline"
   ]
  },
  {
   "cell_type": "code",
   "execution_count": 2,
   "metadata": {},
   "outputs": [],
   "source": [
    "rng = np.random.RandomState(0)\n",
    "X = np.sort(rng.normal(loc=0.5, scale=0.25, size=(25, 1)), axis=0)"
   ]
  },
  {
   "cell_type": "code",
   "execution_count": 3,
   "metadata": {},
   "outputs": [
    {
     "data": {
      "text/plain": [
       "array([[-0.13824745],\n",
       "       [ 0.25568053],\n",
       "       [ 0.28647607],\n",
       "       [ 0.31445874],\n",
       "       [ 0.44871043],\n",
       "       [ 0.4621607 ],\n",
       "       [ 0.47419529],\n",
       "       [ 0.53041875],\n",
       "       [ 0.53601089],\n",
       "       [ 0.57826693],\n",
       "       [ 0.58341858],\n",
       "       [ 0.6000393 ],\n",
       "       [ 0.60264963],\n",
       "       [ 0.61096581],\n",
       "       [ 0.66340465],\n",
       "       [ 0.69025943],\n",
       "       [ 0.71610905],\n",
       "       [ 0.7375221 ],\n",
       "       [ 0.7446845 ],\n",
       "       [ 0.86356838],\n",
       "       [ 0.87351977],\n",
       "       [ 0.94101309],\n",
       "       [ 0.9668895 ],\n",
       "       [ 1.0602233 ],\n",
       "       [ 1.06743866]])"
      ]
     },
     "execution_count": 3,
     "metadata": {},
     "output_type": "execute_result"
    }
   ],
   "source": [
    "X"
   ]
  },
  {
   "cell_type": "code",
   "execution_count": 4,
   "metadata": {},
   "outputs": [
    {
     "data": {
      "text/plain": [
       "array([[9.99999998e-08],\n",
       "       [9.87187297e-02],\n",
       "       [1.06436120e-01],\n",
       "       [1.17546710e-01],\n",
       "       [2.10174366e-01],\n",
       "       [2.19454446e-01],\n",
       "       [2.34986656e-01],\n",
       "       [3.24436417e-01],\n",
       "       [3.33333333e-01],\n",
       "       [4.13607939e-01],\n",
       "       [4.23394641e-01],\n",
       "       [4.62578413e-01],\n",
       "       [4.71122361e-01],\n",
       "       [4.98342373e-01],\n",
       "       [5.99865364e-01],\n",
       "       [6.33903024e-01],\n",
       "       [6.66666667e-01],\n",
       "       [6.88731010e-01],\n",
       "       [6.96111249e-01],\n",
       "       [8.12806989e-01],\n",
       "       [8.21603540e-01],\n",
       "       [8.81264388e-01],\n",
       "       [9.05160277e-01],\n",
       "       [9.93194350e-01],\n",
       "       [9.99999900e-01]])"
      ]
     },
     "execution_count": 4,
     "metadata": {},
     "output_type": "execute_result"
    }
   ],
   "source": [
    "quantile_transform(X, n_quantiles=10, random_state=0)"
   ]
  },
  {
   "cell_type": "code",
   "execution_count": 9,
   "metadata": {},
   "outputs": [
    {
     "data": {
      "text/plain": [
       "array([[-5.19933758e+00],\n",
       "       [-1.29819399e+00],\n",
       "       [-1.24383516e+00],\n",
       "       [-1.12756244e+00],\n",
       "       [-9.39187246e-01],\n",
       "       [-8.02382491e-01],\n",
       "       [-6.66240554e-01],\n",
       "       [-5.40746702e-01],\n",
       "       [-4.30727299e-01],\n",
       "       [-3.15571132e-01],\n",
       "       [-2.08290778e-01],\n",
       "       [-1.04343969e-01],\n",
       "       [-1.24750222e-07],\n",
       "       [ 1.04344026e-01],\n",
       "       [ 2.08290670e-01],\n",
       "       [ 3.15571260e-01],\n",
       "       [ 4.30727299e-01],\n",
       "       [ 5.40747241e-01],\n",
       "       [ 6.66240169e-01],\n",
       "       [ 8.02382656e-01],\n",
       "       [ 9.39187446e-01],\n",
       "       [ 1.12756276e+00],\n",
       "       [ 1.24383506e+00],\n",
       "       [ 1.29819408e+00],\n",
       "       [ 5.19933758e+00]])"
      ]
     },
     "execution_count": 9,
     "metadata": {},
     "output_type": "execute_result"
    }
   ],
   "source": [
    "quantile_transform(X,  n_quantiles=10, output_distribution='normal', random_state=0)"
   ]
  },
  {
   "cell_type": "code",
   "execution_count": 10,
   "metadata": {},
   "outputs": [
    {
     "data": {
      "text/plain": [
       "array([[-5.19933758e+00],\n",
       "       [-1.64867252e+00],\n",
       "       [-1.39062252e+00],\n",
       "       [-1.15550432e+00],\n",
       "       [-9.64220762e-01],\n",
       "       [-8.12177743e-01],\n",
       "       [-6.74014382e-01],\n",
       "       [-5.48119196e-01],\n",
       "       [-4.30727299e-01],\n",
       "       [-3.18427424e-01],\n",
       "       [-2.10273979e-01],\n",
       "       [-1.04656192e-01],\n",
       "       [-1.86083806e-08],\n",
       "       [ 1.04656219e-01],\n",
       "       [ 2.10273960e-01],\n",
       "       [ 3.18427434e-01],\n",
       "       [ 4.30727299e-01],\n",
       "       [ 5.48119232e-01],\n",
       "       [ 6.74014317e-01],\n",
       "       [ 8.12177774e-01],\n",
       "       [ 9.64220758e-01],\n",
       "       [ 1.15550436e+00],\n",
       "       [ 1.39062246e+00],\n",
       "       [ 1.64867255e+00],\n",
       "       [ 5.19933758e+00]])"
      ]
     },
     "execution_count": 10,
     "metadata": {},
     "output_type": "execute_result"
    }
   ],
   "source": [
    "quantile_transform(X,  n_quantiles=100, output_distribution='normal', random_state=0)"
   ]
  },
  {
   "cell_type": "code",
   "execution_count": null,
   "metadata": {},
   "outputs": [],
   "source": []
  }
 ],
 "metadata": {
  "kernelspec": {
   "display_name": "Python 3",
   "language": "python",
   "name": "python3"
  },
  "language_info": {
   "codemirror_mode": {
    "name": "ipython",
    "version": 3
   },
   "file_extension": ".py",
   "mimetype": "text/x-python",
   "name": "python",
   "nbconvert_exporter": "python",
   "pygments_lexer": "ipython3",
   "version": "3.6.3"
  },
  "toc": {
   "base_numbering": 1,
   "nav_menu": {},
   "number_sections": true,
   "sideBar": true,
   "skip_h1_title": false,
   "title_cell": "Table of Contents",
   "title_sidebar": "Contents",
   "toc_cell": false,
   "toc_position": {},
   "toc_section_display": true,
   "toc_window_display": false
  }
 },
 "nbformat": 4,
 "nbformat_minor": 2
}
