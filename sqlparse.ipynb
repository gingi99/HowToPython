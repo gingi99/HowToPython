{
 "cells": [
  {
   "cell_type": "markdown",
   "metadata": {},
   "source": [
    "# sqlparseを触ってみた\n",
    "* sqlparseによるSQLのフォーマット : https://qiita.com/atsaki/items/eb36a6a7935d525a43e7"
   ]
  },
  {
   "cell_type": "code",
   "execution_count": 1,
   "metadata": {},
   "outputs": [
    {
     "data": {
      "text/plain": [
       "'0.3.0'"
      ]
     },
     "execution_count": 1,
     "metadata": {},
     "output_type": "execute_result"
    }
   ],
   "source": [
    "import sqlparse\n",
    "sqlparse.__version__"
   ]
  },
  {
   "cell_type": "markdown",
   "metadata": {},
   "source": [
    "# 練習"
   ]
  },
  {
   "cell_type": "code",
   "execution_count": 2,
   "metadata": {},
   "outputs": [],
   "source": [
    "sql = '''\n",
    "select \n",
    "  user\n",
    "  ,country \n",
    "from hoge.table as a\n",
    "left join fuga.table as b\n",
    "on a.id = b.id \n",
    "where type = \"HOGE\"\n",
    "'''"
   ]
  },
  {
   "cell_type": "code",
   "execution_count": 3,
   "metadata": {},
   "outputs": [
    {
     "name": "stdout",
     "output_type": "stream",
     "text": [
      "\n",
      "select \n",
      "  user\n",
      "  ,country \n",
      "from hoge.table as a\n",
      "left join fuga.table as b\n",
      "on a.id = b.id \n",
      "where type = \"HOGE\"\n",
      "\n"
     ]
    }
   ],
   "source": [
    "print(sql)"
   ]
  },
  {
   "cell_type": "code",
   "execution_count": 4,
   "metadata": {},
   "outputs": [
    {
     "name": "stdout",
     "output_type": "stream",
     "text": [
      "\n",
      "select user ,\n",
      "       country\n",
      "from hoge.table as a\n",
      "left join fuga.table as b on a.id = b.id\n",
      "where type = \"HOGE\"\n"
     ]
    }
   ],
   "source": [
    "print(sqlparse.format(sql, reindent=True, keyword_case='lower'))"
   ]
  },
  {
   "cell_type": "code",
   "execution_count": 5,
   "metadata": {},
   "outputs": [
    {
     "name": "stdout",
     "output_type": "stream",
     "text": [
      "\n",
      "SELECT USER ,\n",
      "       country\n",
      "FROM hoge.table AS a\n",
      "LEFT JOIN fuga.table AS b ON a.id = b.id\n",
      "WHERE TYPE = \"HOGE\"\n"
     ]
    }
   ],
   "source": [
    "print(sqlparse.format(sql, reindent=True, keyword_case='upper'))"
   ]
  },
  {
   "cell_type": "code",
   "execution_count": 7,
   "metadata": {},
   "outputs": [
    {
     "name": "stdout",
     "output_type": "stream",
     "text": [
      "\n",
      "SELECT USER\n",
      "     , country\n",
      "FROM hoge.table AS a\n",
      "LEFT JOIN fuga.table AS b ON a.id = b.id\n",
      "WHERE TYPE = \"HOGE\"\n"
     ]
    }
   ],
   "source": [
    "# docになかったけどできた\n",
    "print(sqlparse.format(sql, reindent=True, keyword_case='upper', comma_first = True))"
   ]
  },
  {
   "cell_type": "code",
   "execution_count": 15,
   "metadata": {},
   "outputs": [
    {
     "name": "stdout",
     "output_type": "stream",
     "text": [
      "\n",
      "  select user\n",
      "       , country\n",
      "  from hoge.table as a\n",
      "  left join fuga.table as b on a.id = b.id\n",
      "  where type = \"HOGE\"\n"
     ]
    }
   ],
   "source": [
    "# docになかったけどできた\n",
    "print(sqlparse.format(sql, reindent=True, keyword_case='lower', comma_first = True, indent_after_first = True))"
   ]
  },
  {
   "cell_type": "code",
   "execution_count": 6,
   "metadata": {},
   "outputs": [
    {
     "name": "stdout",
     "output_type": "stream",
     "text": [
      "<class 'sqlparse.sql.Token'> \n",
      "\n",
      "<class 'sqlparse.sql.Token'> select\n",
      "<class 'sqlparse.sql.Token'>  \n",
      "<class 'sqlparse.sql.Token'> \n",
      "\n",
      "<class 'sqlparse.sql.Token'>  \n",
      "<class 'sqlparse.sql.Token'>  \n",
      "<class 'sqlparse.sql.IdentifierList'> user\n",
      "  ,country\n",
      "<class 'sqlparse.sql.Token'>  \n",
      "<class 'sqlparse.sql.Token'> \n",
      "\n",
      "<class 'sqlparse.sql.Token'> from\n",
      "<class 'sqlparse.sql.Token'>  \n",
      "<class 'sqlparse.sql.Identifier'> hoge.table as a\n",
      "<class 'sqlparse.sql.Token'> \n",
      "\n",
      "<class 'sqlparse.sql.Token'> left join\n",
      "<class 'sqlparse.sql.Token'>  \n",
      "<class 'sqlparse.sql.Identifier'> fuga.table as b\n",
      "<class 'sqlparse.sql.Token'> \n",
      "\n",
      "<class 'sqlparse.sql.Token'> on\n",
      "<class 'sqlparse.sql.Token'>  \n",
      "<class 'sqlparse.sql.Comparison'> a.id = b.id\n",
      "<class 'sqlparse.sql.Token'>  \n",
      "<class 'sqlparse.sql.Token'> \n",
      "\n",
      "<class 'sqlparse.sql.Where'> where type = \"HOGE\"\n",
      "\n"
     ]
    }
   ],
   "source": [
    "parsed = sqlparse.parse(sql)\n",
    "stmt = parsed[0]\n",
    "for t in stmt.tokens:\n",
    "    print(type(t), t)"
   ]
  },
  {
   "cell_type": "markdown",
   "metadata": {},
   "source": [
    "# インデントを4にする"
   ]
  },
  {
   "cell_type": "code",
   "execution_count": 29,
   "metadata": {},
   "outputs": [],
   "source": [
    "sql = '''\n",
    "# comment out\n",
    "select \n",
    "  user,\n",
    "  country \n",
    "from hoge.table as a\n",
    "left join (\n",
    "   select \n",
    "       id,\n",
    "       type\n",
    "   from fuga.table\n",
    ") as b\n",
    "on a.id = b.id \n",
    "where type = \"HOGE\"\n",
    "'''"
   ]
  },
  {
   "cell_type": "code",
   "execution_count": 30,
   "metadata": {},
   "outputs": [
    {
     "name": "stdout",
     "output_type": "stream",
     "text": [
      "# comment out\n",
      "\n",
      "select user\n",
      ",  country\n",
      "from hoge.table as a\n",
      "left join\n",
      "\t(select id\n",
      "\t,  type\n",
      "\t\tfrom fuga.table) as b on a.id = b.id\n",
      "where type = \"HOGE\"\n"
     ]
    }
   ],
   "source": [
    "print(\n",
    "    sqlparse.format(\n",
    "        sql, \n",
    "        reindent = True, \n",
    "        reindent_aligned = False,\n",
    "        indent_tabs = True, \n",
    "        indent_width = 1, \n",
    "        identifier_case = 'lower', \n",
    "        keyword_case='lower',\n",
    "        strip_comments = False,\n",
    "        comma_first = True,\n",
    "        indent_after_first = False\n",
    "    )\n",
    ")"
   ]
  },
  {
   "cell_type": "markdown",
   "metadata": {},
   "source": [
    "# カスタマイズファンクションを作るための構造"
   ]
  },
  {
   "cell_type": "code",
   "execution_count": 61,
   "metadata": {},
   "outputs": [
    {
     "name": "stdout",
     "output_type": "stream",
     "text": [
      "\n",
      "# comment out\n",
      "select\n",
      "  user\n",
      "  ,country\n",
      "from hoge.table as a\n",
      "left join (\n",
      "   select\n",
      "       id\n",
      "   from fuga.table\n",
      ") as b\n",
      "on a.id = b.id\n",
      "where type = \"HOGE\"\n",
      "\n"
     ]
    }
   ],
   "source": [
    "from sqlparse import engine\n",
    "from sqlparse import filters\n",
    "stack = engine.FilterStack()\n",
    "stack.postprocess.append(filters.SerializerUnicode())\n",
    "print(stack.run(sql).__next__())"
   ]
  },
  {
   "cell_type": "markdown",
   "metadata": {},
   "source": [
    "# カンマを先頭に持ってくる\n",
    "実装するしかないみたい。Githubのコード読むか…"
   ]
  },
  {
   "cell_type": "code",
   "execution_count": 79,
   "metadata": {},
   "outputs": [],
   "source": [
    "from sqlparse import engine\n",
    "from sqlparse.filters import ReindentFilter\n",
    "from sqlparse.sql import Function                                                  \n",
    "\n",
    "class MyReindentFilter(ReindentFilter):\n",
    "    def _process_identifierlist(self, tlist):\n",
    "        identifiers = list(tlist.get_identifiers())\n",
    "        print(identifiers)\n",
    "        if len(identifiers) > 1 and not tlist.within(Function):                    \n",
    "\n",
    "            first = identifiers[0]                                                 \n",
    "            self.indent += 1                                                       \n",
    "            tlist.insert_before(first, self.nl())                                  \n",
    "            self.offset -= 1                                                       \n",
    "            tlist.insert_after(first, self.nl())      \n",
    "            \n",
    "            print(tlist)\n",
    "\n",
    "            for token in identifiers[1:len(identifiers)-1]:                        \n",
    "                prev = tlist.token_prev(tlist.token_index(token), False)           \n",
    "                if prev and prev.is_whitespace():                                  \n",
    "                    prev.value = ''                                                \n",
    "                tlist.insert_after(token, self.nl())                               \n",
    "\n",
    "            last = identifiers[-1]                                                 \n",
    "            prev = tlist.token_prev(tlist.token_index(last), False)                \n",
    "            if prev and prev.is_whitespace():                                      \n",
    "                prev.value = ''                                                    \n",
    "            self.offset += 1                                                       \n",
    "            self.indent -= 1                                                       \n",
    "\n",
    "        self._process_default(tlist) "
   ]
  },
  {
   "cell_type": "code",
   "execution_count": 80,
   "metadata": {},
   "outputs": [
    {
     "name": "stdout",
     "output_type": "stream",
     "text": [
      "[<Keyword 'user' at 0x1098B3348>, <Identifier 'country' at 0x10989C5E8>]\n",
      "\n",
      "  user\n",
      "  \n",
      " ,country\n"
     ]
    },
    {
     "ename": "AttributeError",
     "evalue": "'tuple' object has no attribute 'is_whitespace'",
     "output_type": "error",
     "traceback": [
      "\u001b[0;31m---------------------------------------------------------------------------\u001b[0m",
      "\u001b[0;31mAttributeError\u001b[0m                            Traceback (most recent call last)",
      "\u001b[0;32m<ipython-input-80-515f7cc01d3d>\u001b[0m in \u001b[0;36m<module>\u001b[0;34m\u001b[0m\n\u001b[1;32m      3\u001b[0m \u001b[0mstack\u001b[0m\u001b[0;34m.\u001b[0m\u001b[0mstmtprocess\u001b[0m\u001b[0;34m.\u001b[0m\u001b[0mappend\u001b[0m\u001b[0;34m(\u001b[0m\u001b[0mMyReindentFilter\u001b[0m\u001b[0;34m(\u001b[0m\u001b[0;34m)\u001b[0m\u001b[0;34m)\u001b[0m\u001b[0;34m\u001b[0m\u001b[0;34m\u001b[0m\u001b[0m\n\u001b[1;32m      4\u001b[0m \u001b[0mstack\u001b[0m\u001b[0;34m.\u001b[0m\u001b[0mpostprocess\u001b[0m\u001b[0;34m.\u001b[0m\u001b[0mappend\u001b[0m\u001b[0;34m(\u001b[0m\u001b[0mfilters\u001b[0m\u001b[0;34m.\u001b[0m\u001b[0mSerializerUnicode\u001b[0m\u001b[0;34m(\u001b[0m\u001b[0;34m)\u001b[0m\u001b[0;34m)\u001b[0m\u001b[0;34m\u001b[0m\u001b[0;34m\u001b[0m\u001b[0m\n\u001b[0;32m----> 5\u001b[0;31m \u001b[0mstack\u001b[0m\u001b[0;34m.\u001b[0m\u001b[0mrun\u001b[0m\u001b[0;34m(\u001b[0m\u001b[0msql\u001b[0m\u001b[0;34m)\u001b[0m\u001b[0;34m.\u001b[0m\u001b[0m__next__\u001b[0m\u001b[0;34m(\u001b[0m\u001b[0;34m)\u001b[0m\u001b[0;34m\u001b[0m\u001b[0;34m\u001b[0m\u001b[0m\n\u001b[0m",
      "\u001b[0;32m~/.pyenv/versions/3.7.2/lib/python3.7/site-packages/sqlparse/engine/filter_stack.py\u001b[0m in \u001b[0;36mrun\u001b[0;34m(self, sql, encoding)\u001b[0m\n\u001b[1;32m     38\u001b[0m \u001b[0;34m\u001b[0m\u001b[0m\n\u001b[1;32m     39\u001b[0m             \u001b[0;32mfor\u001b[0m \u001b[0mfilter_\u001b[0m \u001b[0;32min\u001b[0m \u001b[0mself\u001b[0m\u001b[0;34m.\u001b[0m\u001b[0mstmtprocess\u001b[0m\u001b[0;34m:\u001b[0m\u001b[0;34m\u001b[0m\u001b[0;34m\u001b[0m\u001b[0m\n\u001b[0;32m---> 40\u001b[0;31m                 \u001b[0mfilter_\u001b[0m\u001b[0;34m.\u001b[0m\u001b[0mprocess\u001b[0m\u001b[0;34m(\u001b[0m\u001b[0mstmt\u001b[0m\u001b[0;34m)\u001b[0m\u001b[0;34m\u001b[0m\u001b[0;34m\u001b[0m\u001b[0m\n\u001b[0m\u001b[1;32m     41\u001b[0m \u001b[0;34m\u001b[0m\u001b[0m\n\u001b[1;32m     42\u001b[0m             \u001b[0;32mfor\u001b[0m \u001b[0mfilter_\u001b[0m \u001b[0;32min\u001b[0m \u001b[0mself\u001b[0m\u001b[0;34m.\u001b[0m\u001b[0mpostprocess\u001b[0m\u001b[0;34m:\u001b[0m\u001b[0;34m\u001b[0m\u001b[0;34m\u001b[0m\u001b[0m\n",
      "\u001b[0;32m~/.pyenv/versions/3.7.2/lib/python3.7/site-packages/sqlparse/filters/reindent.py\u001b[0m in \u001b[0;36mprocess\u001b[0;34m(self, stmt)\u001b[0m\n\u001b[1;32m    232\u001b[0m     \u001b[0;32mdef\u001b[0m \u001b[0mprocess\u001b[0m\u001b[0;34m(\u001b[0m\u001b[0mself\u001b[0m\u001b[0;34m,\u001b[0m \u001b[0mstmt\u001b[0m\u001b[0;34m)\u001b[0m\u001b[0;34m:\u001b[0m\u001b[0;34m\u001b[0m\u001b[0;34m\u001b[0m\u001b[0m\n\u001b[1;32m    233\u001b[0m         \u001b[0mself\u001b[0m\u001b[0;34m.\u001b[0m\u001b[0m_curr_stmt\u001b[0m \u001b[0;34m=\u001b[0m \u001b[0mstmt\u001b[0m\u001b[0;34m\u001b[0m\u001b[0;34m\u001b[0m\u001b[0m\n\u001b[0;32m--> 234\u001b[0;31m         \u001b[0mself\u001b[0m\u001b[0;34m.\u001b[0m\u001b[0m_process\u001b[0m\u001b[0;34m(\u001b[0m\u001b[0mstmt\u001b[0m\u001b[0;34m)\u001b[0m\u001b[0;34m\u001b[0m\u001b[0;34m\u001b[0m\u001b[0m\n\u001b[0m\u001b[1;32m    235\u001b[0m \u001b[0;34m\u001b[0m\u001b[0m\n\u001b[1;32m    236\u001b[0m         \u001b[0;32mif\u001b[0m \u001b[0mself\u001b[0m\u001b[0;34m.\u001b[0m\u001b[0m_last_stmt\u001b[0m \u001b[0;32mis\u001b[0m \u001b[0;32mnot\u001b[0m \u001b[0;32mNone\u001b[0m\u001b[0;34m:\u001b[0m\u001b[0;34m\u001b[0m\u001b[0;34m\u001b[0m\u001b[0m\n",
      "\u001b[0;32m~/.pyenv/versions/3.7.2/lib/python3.7/site-packages/sqlparse/filters/reindent.py\u001b[0m in \u001b[0;36m_process\u001b[0;34m(self, tlist)\u001b[0m\n\u001b[1;32m    101\u001b[0m         \u001b[0mfunc_name\u001b[0m \u001b[0;34m=\u001b[0m \u001b[0;34m'_process_{cls}'\u001b[0m\u001b[0;34m.\u001b[0m\u001b[0mformat\u001b[0m\u001b[0;34m(\u001b[0m\u001b[0mcls\u001b[0m\u001b[0;34m=\u001b[0m\u001b[0mtype\u001b[0m\u001b[0;34m(\u001b[0m\u001b[0mtlist\u001b[0m\u001b[0;34m)\u001b[0m\u001b[0;34m.\u001b[0m\u001b[0m__name__\u001b[0m\u001b[0;34m)\u001b[0m\u001b[0;34m\u001b[0m\u001b[0;34m\u001b[0m\u001b[0m\n\u001b[1;32m    102\u001b[0m         \u001b[0mfunc\u001b[0m \u001b[0;34m=\u001b[0m \u001b[0mgetattr\u001b[0m\u001b[0;34m(\u001b[0m\u001b[0mself\u001b[0m\u001b[0;34m,\u001b[0m \u001b[0mfunc_name\u001b[0m\u001b[0;34m.\u001b[0m\u001b[0mlower\u001b[0m\u001b[0;34m(\u001b[0m\u001b[0;34m)\u001b[0m\u001b[0;34m,\u001b[0m \u001b[0mself\u001b[0m\u001b[0;34m.\u001b[0m\u001b[0m_process_default\u001b[0m\u001b[0;34m)\u001b[0m\u001b[0;34m\u001b[0m\u001b[0;34m\u001b[0m\u001b[0m\n\u001b[0;32m--> 103\u001b[0;31m         \u001b[0mfunc\u001b[0m\u001b[0;34m(\u001b[0m\u001b[0mtlist\u001b[0m\u001b[0;34m)\u001b[0m\u001b[0;34m\u001b[0m\u001b[0;34m\u001b[0m\u001b[0m\n\u001b[0m\u001b[1;32m    104\u001b[0m \u001b[0;34m\u001b[0m\u001b[0m\n\u001b[1;32m    105\u001b[0m     \u001b[0;32mdef\u001b[0m \u001b[0m_process_where\u001b[0m\u001b[0;34m(\u001b[0m\u001b[0mself\u001b[0m\u001b[0;34m,\u001b[0m \u001b[0mtlist\u001b[0m\u001b[0;34m)\u001b[0m\u001b[0;34m:\u001b[0m\u001b[0;34m\u001b[0m\u001b[0;34m\u001b[0m\u001b[0m\n",
      "\u001b[0;32m~/.pyenv/versions/3.7.2/lib/python3.7/site-packages/sqlparse/filters/reindent.py\u001b[0m in \u001b[0;36m_process_default\u001b[0;34m(self, tlist, stmts)\u001b[0m\n\u001b[1;32m    228\u001b[0m         \u001b[0mself\u001b[0m\u001b[0;34m.\u001b[0m\u001b[0m_split_kwds\u001b[0m\u001b[0;34m(\u001b[0m\u001b[0mtlist\u001b[0m\u001b[0;34m)\u001b[0m\u001b[0;34m\u001b[0m\u001b[0;34m\u001b[0m\u001b[0m\n\u001b[1;32m    229\u001b[0m         \u001b[0;32mfor\u001b[0m \u001b[0msgroup\u001b[0m \u001b[0;32min\u001b[0m \u001b[0mtlist\u001b[0m\u001b[0;34m.\u001b[0m\u001b[0mget_sublists\u001b[0m\u001b[0;34m(\u001b[0m\u001b[0;34m)\u001b[0m\u001b[0;34m:\u001b[0m\u001b[0;34m\u001b[0m\u001b[0;34m\u001b[0m\u001b[0m\n\u001b[0;32m--> 230\u001b[0;31m             \u001b[0mself\u001b[0m\u001b[0;34m.\u001b[0m\u001b[0m_process\u001b[0m\u001b[0;34m(\u001b[0m\u001b[0msgroup\u001b[0m\u001b[0;34m)\u001b[0m\u001b[0;34m\u001b[0m\u001b[0;34m\u001b[0m\u001b[0m\n\u001b[0m\u001b[1;32m    231\u001b[0m \u001b[0;34m\u001b[0m\u001b[0m\n\u001b[1;32m    232\u001b[0m     \u001b[0;32mdef\u001b[0m \u001b[0mprocess\u001b[0m\u001b[0;34m(\u001b[0m\u001b[0mself\u001b[0m\u001b[0;34m,\u001b[0m \u001b[0mstmt\u001b[0m\u001b[0;34m)\u001b[0m\u001b[0;34m:\u001b[0m\u001b[0;34m\u001b[0m\u001b[0;34m\u001b[0m\u001b[0m\n",
      "\u001b[0;32m~/.pyenv/versions/3.7.2/lib/python3.7/site-packages/sqlparse/filters/reindent.py\u001b[0m in \u001b[0;36m_process\u001b[0;34m(self, tlist)\u001b[0m\n\u001b[1;32m    101\u001b[0m         \u001b[0mfunc_name\u001b[0m \u001b[0;34m=\u001b[0m \u001b[0;34m'_process_{cls}'\u001b[0m\u001b[0;34m.\u001b[0m\u001b[0mformat\u001b[0m\u001b[0;34m(\u001b[0m\u001b[0mcls\u001b[0m\u001b[0;34m=\u001b[0m\u001b[0mtype\u001b[0m\u001b[0;34m(\u001b[0m\u001b[0mtlist\u001b[0m\u001b[0;34m)\u001b[0m\u001b[0;34m.\u001b[0m\u001b[0m__name__\u001b[0m\u001b[0;34m)\u001b[0m\u001b[0;34m\u001b[0m\u001b[0;34m\u001b[0m\u001b[0m\n\u001b[1;32m    102\u001b[0m         \u001b[0mfunc\u001b[0m \u001b[0;34m=\u001b[0m \u001b[0mgetattr\u001b[0m\u001b[0;34m(\u001b[0m\u001b[0mself\u001b[0m\u001b[0;34m,\u001b[0m \u001b[0mfunc_name\u001b[0m\u001b[0;34m.\u001b[0m\u001b[0mlower\u001b[0m\u001b[0;34m(\u001b[0m\u001b[0;34m)\u001b[0m\u001b[0;34m,\u001b[0m \u001b[0mself\u001b[0m\u001b[0;34m.\u001b[0m\u001b[0m_process_default\u001b[0m\u001b[0;34m)\u001b[0m\u001b[0;34m\u001b[0m\u001b[0;34m\u001b[0m\u001b[0m\n\u001b[0;32m--> 103\u001b[0;31m         \u001b[0mfunc\u001b[0m\u001b[0;34m(\u001b[0m\u001b[0mtlist\u001b[0m\u001b[0;34m)\u001b[0m\u001b[0;34m\u001b[0m\u001b[0;34m\u001b[0m\u001b[0m\n\u001b[0m\u001b[1;32m    104\u001b[0m \u001b[0;34m\u001b[0m\u001b[0m\n\u001b[1;32m    105\u001b[0m     \u001b[0;32mdef\u001b[0m \u001b[0m_process_where\u001b[0m\u001b[0;34m(\u001b[0m\u001b[0mself\u001b[0m\u001b[0;34m,\u001b[0m \u001b[0mtlist\u001b[0m\u001b[0;34m)\u001b[0m\u001b[0;34m:\u001b[0m\u001b[0;34m\u001b[0m\u001b[0;34m\u001b[0m\u001b[0m\n",
      "\u001b[0;32m<ipython-input-79-b242c99ddbc4>\u001b[0m in \u001b[0;36m_process_identifierlist\u001b[0;34m(self, tlist)\u001b[0m\n\u001b[1;32m     25\u001b[0m             \u001b[0mlast\u001b[0m \u001b[0;34m=\u001b[0m \u001b[0midentifiers\u001b[0m\u001b[0;34m[\u001b[0m\u001b[0;34m-\u001b[0m\u001b[0;36m1\u001b[0m\u001b[0;34m]\u001b[0m\u001b[0;34m\u001b[0m\u001b[0;34m\u001b[0m\u001b[0m\n\u001b[1;32m     26\u001b[0m             \u001b[0mprev\u001b[0m \u001b[0;34m=\u001b[0m \u001b[0mtlist\u001b[0m\u001b[0;34m.\u001b[0m\u001b[0mtoken_prev\u001b[0m\u001b[0;34m(\u001b[0m\u001b[0mtlist\u001b[0m\u001b[0;34m.\u001b[0m\u001b[0mtoken_index\u001b[0m\u001b[0;34m(\u001b[0m\u001b[0mlast\u001b[0m\u001b[0;34m)\u001b[0m\u001b[0;34m,\u001b[0m \u001b[0;32mFalse\u001b[0m\u001b[0;34m)\u001b[0m\u001b[0;34m\u001b[0m\u001b[0;34m\u001b[0m\u001b[0m\n\u001b[0;32m---> 27\u001b[0;31m             \u001b[0;32mif\u001b[0m \u001b[0mprev\u001b[0m \u001b[0;32mand\u001b[0m \u001b[0mprev\u001b[0m\u001b[0;34m.\u001b[0m\u001b[0mis_whitespace\u001b[0m\u001b[0;34m(\u001b[0m\u001b[0;34m)\u001b[0m\u001b[0;34m:\u001b[0m\u001b[0;34m\u001b[0m\u001b[0;34m\u001b[0m\u001b[0m\n\u001b[0m\u001b[1;32m     28\u001b[0m                 \u001b[0mprev\u001b[0m\u001b[0;34m.\u001b[0m\u001b[0mvalue\u001b[0m \u001b[0;34m=\u001b[0m \u001b[0;34m''\u001b[0m\u001b[0;34m\u001b[0m\u001b[0;34m\u001b[0m\u001b[0m\n\u001b[1;32m     29\u001b[0m             \u001b[0mself\u001b[0m\u001b[0;34m.\u001b[0m\u001b[0moffset\u001b[0m \u001b[0;34m+=\u001b[0m \u001b[0;36m1\u001b[0m\u001b[0;34m\u001b[0m\u001b[0;34m\u001b[0m\u001b[0m\n",
      "\u001b[0;31mAttributeError\u001b[0m: 'tuple' object has no attribute 'is_whitespace'"
     ]
    }
   ],
   "source": [
    "stack = engine.FilterStack()\n",
    "stack.enable_grouping()\n",
    "stack.stmtprocess.append(MyReindentFilter())\n",
    "stack.postprocess.append(filters.SerializerUnicode())\n",
    "stack.run(sql).__next__()"
   ]
  },
  {
   "cell_type": "markdown",
   "metadata": {},
   "source": [
    "# テーブルネームを取る\n",
    "うまくいかないな"
   ]
  },
  {
   "cell_type": "code",
   "execution_count": 68,
   "metadata": {},
   "outputs": [],
   "source": [
    "import sqlparse\n",
    "from sqlparse.sql import IdentifierList, Identifier\n",
    "from sqlparse.tokens import Keyword, DML\n",
    "\n",
    "\n",
    "def is_subselect(parsed):\n",
    "    if not parsed.is_group:\n",
    "        return False\n",
    "    for item in parsed.tokens:\n",
    "        if item.ttype is DML and item.value.upper() == 'SELECT':\n",
    "            return True\n",
    "    return False\n",
    "\n",
    "\n",
    "def extract_from_part(parsed):\n",
    "    from_seen = False\n",
    "    for item in parsed.tokens:\n",
    "        if from_seen:\n",
    "            if is_subselect(item):\n",
    "                for x in extract_from_part(item):\n",
    "                    yield x\n",
    "            elif item.ttype is Keyword:\n",
    "                return\n",
    "            else:\n",
    "                yield item\n",
    "        elif item.ttype is Keyword and item.value.upper() == 'FROM':\n",
    "            from_seen = True\n",
    "\n",
    "\n",
    "def extract_table_identifiers(token_stream):\n",
    "    for item in token_stream:\n",
    "        if isinstance(item, IdentifierList):\n",
    "            for identifier in item.get_identifiers():\n",
    "                yield identifier.get_name()\n",
    "        elif isinstance(item, Identifier):\n",
    "            yield item.get_name()\n",
    "        # It's a bug to check for Keyword here, but in the example\n",
    "        # above some tables names are identified as keywords...\n",
    "        elif item.ttype is Keyword:\n",
    "            yield item.value\n",
    "\n",
    "def extract_tables(sql):\n",
    "    stream = extract_from_part(sqlparse.parse(sql)[0])\n",
    "    return list(extract_table_identifiers(stream))"
   ]
  },
  {
   "cell_type": "code",
   "execution_count": 67,
   "metadata": {},
   "outputs": [
    {
     "name": "stdout",
     "output_type": "stream",
     "text": [
      "Tables: a\n"
     ]
    }
   ],
   "source": [
    "tables = ', '.join(extract_tables(sql))\n",
    "print('Tables: {0}'.format(tables))"
   ]
  },
  {
   "cell_type": "code",
   "execution_count": 69,
   "metadata": {},
   "outputs": [
    {
     "name": "stdout",
     "output_type": "stream",
     "text": [
      "<class 'sqlparse.sql.Token'> \n",
      "\n",
      "<class 'sqlparse.sql.Comment'> # comment out\n",
      "\n",
      "<class 'sqlparse.sql.Token'> select\n",
      "<class 'sqlparse.sql.Token'>  \n",
      "<class 'sqlparse.sql.Token'> \n",
      "\n",
      "<class 'sqlparse.sql.Token'>  \n",
      "<class 'sqlparse.sql.Token'>  \n",
      "<class 'sqlparse.sql.IdentifierList'> user\n",
      "  ,country\n",
      "<class 'sqlparse.sql.Token'>  \n",
      "<class 'sqlparse.sql.Token'> \n",
      "\n",
      "<class 'sqlparse.sql.Token'> from\n",
      "<class 'sqlparse.sql.Token'>  \n",
      "<class 'sqlparse.sql.Identifier'> hoge.table as a\n",
      "<class 'sqlparse.sql.Token'> \n",
      "\n",
      "<class 'sqlparse.sql.Token'> left join\n",
      "<class 'sqlparse.sql.Token'>  \n",
      "<class 'sqlparse.sql.Identifier'> (\n",
      "   select \n",
      "       id\n",
      "   from fuga.table\n",
      ") as b\n",
      "<class 'sqlparse.sql.Token'> \n",
      "\n",
      "<class 'sqlparse.sql.Token'> on\n",
      "<class 'sqlparse.sql.Token'>  \n",
      "<class 'sqlparse.sql.Comparison'> a.id = b.id\n",
      "<class 'sqlparse.sql.Token'>  \n",
      "<class 'sqlparse.sql.Token'> \n",
      "\n",
      "<class 'sqlparse.sql.Where'> where type = \"HOGE\"\n",
      "\n"
     ]
    }
   ],
   "source": [
    "def extract_tables(sql): \n",
    "    parsed = sqlparse.parse(sql)\n",
    "    stmt = parsed[0]\n",
    "    for t in stmt.tokens:\n",
    "        print(type(t), t)\n",
    "extract_tables(sql)"
   ]
  }
 ],
 "metadata": {
  "kernelspec": {
   "display_name": "Python 3",
   "language": "python",
   "name": "python3"
  },
  "language_info": {
   "codemirror_mode": {
    "name": "ipython",
    "version": 3
   },
   "file_extension": ".py",
   "mimetype": "text/x-python",
   "name": "python",
   "nbconvert_exporter": "python",
   "pygments_lexer": "ipython3",
   "version": "3.6.3"
  },
  "toc": {
   "base_numbering": 1,
   "nav_menu": {},
   "number_sections": true,
   "sideBar": true,
   "skip_h1_title": false,
   "title_cell": "Table of Contents",
   "title_sidebar": "Contents",
   "toc_cell": false,
   "toc_position": {},
   "toc_section_display": true,
   "toc_window_display": false
  }
 },
 "nbformat": 4,
 "nbformat_minor": 2
}
