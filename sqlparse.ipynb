{
 "cells": [
  {
   "cell_type": "markdown",
   "metadata": {},
   "source": [
    "## sqlparseを触ってみた\n",
    "* sqlparseによるSQLのフォーマット : https://qiita.com/atsaki/items/eb36a6a7935d525a43e7"
   ]
  },
  {
   "cell_type": "code",
   "execution_count": 1,
   "metadata": {},
   "outputs": [],
   "source": [
    "import sqlparse"
   ]
  },
  {
   "cell_type": "code",
   "execution_count": 2,
   "metadata": {},
   "outputs": [],
   "source": [
    "sql = '''\n",
    "select \n",
    "  user\n",
    "  ,country \n",
    "from hoge.table as a \n",
    "left join fuga.table as b\n",
    "on a.id = b.id \n",
    "where type = \"HOGE\"\n",
    "'''"
   ]
  },
  {
   "cell_type": "code",
   "execution_count": 9,
   "metadata": {},
   "outputs": [
    {
     "data": {
      "text/plain": [
       "'\\nselect user ,\\n       country\\nfrom hoge.table as a\\nleft join fuga.table as b on a.id = b.id\\nwhere type = \"HOGE\"'"
      ]
     },
     "execution_count": 9,
     "metadata": {},
     "output_type": "execute_result"
    }
   ],
   "source": [
    "print(sqlparse.format(sql, reindent=True, keyword_case='lower'))"
   ]
  },
  {
   "cell_type": "code",
   "execution_count": 8,
   "metadata": {},
   "outputs": [
    {
     "name": "stdout",
     "output_type": "stream",
     "text": [
      "\n",
      "SELECT USER ,\n",
      "       country\n",
      "FROM hoge.table AS a\n",
      "LEFT JOIN fuga.table AS b ON a.id = b.id\n",
      "WHERE TYPE = \"HOGE\"\n"
     ]
    }
   ],
   "source": [
    "print(sqlparse.format(sql, reindent=True, keyword_case='upper'))"
   ]
  },
  {
   "cell_type": "code",
   "execution_count": 11,
   "metadata": {},
   "outputs": [
    {
     "name": "stdout",
     "output_type": "stream",
     "text": [
      "<class 'sqlparse.sql.Token'> \n",
      "\n",
      "<class 'sqlparse.sql.Token'> select\n",
      "<class 'sqlparse.sql.Token'>  \n",
      "<class 'sqlparse.sql.Token'> \n",
      "\n",
      "<class 'sqlparse.sql.Token'>  \n",
      "<class 'sqlparse.sql.Token'>  \n",
      "<class 'sqlparse.sql.IdentifierList'> user\n",
      "  ,country\n",
      "<class 'sqlparse.sql.Token'>  \n",
      "<class 'sqlparse.sql.Token'> \n",
      "\n",
      "<class 'sqlparse.sql.Token'> from\n",
      "<class 'sqlparse.sql.Token'>  \n",
      "<class 'sqlparse.sql.Identifier'> hoge.table as a\n",
      "<class 'sqlparse.sql.Token'>  \n",
      "<class 'sqlparse.sql.Token'> \n",
      "\n",
      "<class 'sqlparse.sql.Token'> left join\n",
      "<class 'sqlparse.sql.Token'>  \n",
      "<class 'sqlparse.sql.Identifier'> fuga.table as b\n",
      "<class 'sqlparse.sql.Token'> \n",
      "\n",
      "<class 'sqlparse.sql.Token'> on\n",
      "<class 'sqlparse.sql.Token'>  \n",
      "<class 'sqlparse.sql.Comparison'> a.id = b.id\n",
      "<class 'sqlparse.sql.Token'>  \n",
      "<class 'sqlparse.sql.Token'> \n",
      "\n",
      "<class 'sqlparse.sql.Where'> where type = \"HOGE\"\n",
      "\n"
     ]
    }
   ],
   "source": [
    "parsed = sqlparse.parse(sql)\n",
    "stmt = parsed[0]\n",
    "for t in stmt.tokens:\n",
    "    print(type(t), t)"
   ]
  },
  {
   "cell_type": "code",
   "execution_count": null,
   "metadata": {},
   "outputs": [],
   "source": []
  }
 ],
 "metadata": {
  "kernelspec": {
   "display_name": "Python 3",
   "language": "python",
   "name": "python3"
  },
  "language_info": {
   "codemirror_mode": {
    "name": "ipython",
    "version": 3
   },
   "file_extension": ".py",
   "mimetype": "text/x-python",
   "name": "python",
   "nbconvert_exporter": "python",
   "pygments_lexer": "ipython3",
   "version": "3.6.3"
  },
  "toc": {
   "base_numbering": 1,
   "nav_menu": {},
   "number_sections": true,
   "sideBar": true,
   "skip_h1_title": false,
   "title_cell": "Table of Contents",
   "title_sidebar": "Contents",
   "toc_cell": false,
   "toc_position": {},
   "toc_section_display": true,
   "toc_window_display": false
  }
 },
 "nbformat": 4,
 "nbformat_minor": 2
}
