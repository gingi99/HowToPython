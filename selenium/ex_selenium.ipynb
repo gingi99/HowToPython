{
 "cells": [
  {
   "cell_type": "markdown",
   "metadata": {},
   "source": [
    "# Selenium 入門\n",
    "\n",
    "## 準備\n",
    "\n",
    "* chromeのバージョンに合わせてバージョン番号をあわせてインストールしよう\n",
    "* 参考 : https://pypi.org/project/chromedriver-binary/#history\n",
    "\n",
    "```\n",
    "$ pip install selenium\n",
    "$ pip install chromedriver-binary==74.0.3729.6.0\n",
    "```"
   ]
  },
  {
   "cell_type": "code",
   "execution_count": 32,
   "metadata": {},
   "outputs": [],
   "source": [
    "import time\n",
    "import configparser\n",
    "from selenium import webdriver\n",
    "from selenium.webdriver.chrome.options import Options\n",
    "\n",
    "inifile = configparser.ConfigParser()\n",
    "inifile.read('./config.ini', 'UTF-8')\n",
    "\n",
    "options = Options()\n",
    "options.add_argument('--headless')\n",
    "path = inifile.get('selenium', 'path')"
   ]
  },
  {
   "cell_type": "markdown",
   "metadata": {},
   "source": [
    "## 練習\n",
    "* Pythonでブラウザ自動操縦してカード明細を自動でダウンロードしよう(その1) : https://news.mynavi.jp/article/zeropython-49/"
   ]
  },
  {
   "cell_type": "code",
   "execution_count": 19,
   "metadata": {},
   "outputs": [],
   "source": [
    "# Chromeを起動する\n",
    "#driver = webdriver.Chrome(path, options = options)\n",
    "driver = webdriver.Chrome(path)\n",
    "\n",
    "# Googleのページを開く \n",
    "driver.get('https://www.google.com')\n",
    "\n",
    "# ページが開くまで待つ\n",
    "time.sleep(5) \n",
    "\n",
    "# 検索ボックスのオブジェクトを得る\n",
    "q = driver.find_element_by_name('q')\n",
    "\n",
    "# 検索ボックスにキーを送信する\n",
    "q.send_keys('ゼロからはじめるPython')\n",
    "\n",
    "# フォームを投稿する\n",
    "q.submit()\n",
    "\n",
    "# 結果を5秒表示\n",
    "time.sleep(5)\n",
    "\n",
    "# スクリーンショットを撮る\n",
    "#driver.save_screenshot('search_results.png')\n",
    "\n",
    "# 終了\n",
    "driver.quit()"
   ]
  },
  {
   "cell_type": "markdown",
   "metadata": {},
   "source": [
    "# コープ\n",
    "コープの購入明細書をダウンロードするまでを作る（途中）"
   ]
  },
  {
   "cell_type": "code",
   "execution_count": 33,
   "metadata": {},
   "outputs": [],
   "source": [
    "user_id = inifile.get('coop', 'user_id')\n",
    "password = inifile.get('coop', 'password')"
   ]
  },
  {
   "cell_type": "code",
   "execution_count": 34,
   "metadata": {},
   "outputs": [],
   "source": [
    "# Chromeを起動する\n",
    "#driver = webdriver.Chrome(path, options = options)\n",
    "driver = webdriver.Chrome(path)\n",
    "\n",
    "# コープのページを開く \n",
    "driver.get('https://ec.coopdeli.jp/auth/login.html')\n",
    "\n",
    "# ページが開くまで待つ\n",
    "time.sleep(3) \n",
    "\n",
    "# 会員ID入力欄にインプット\n",
    "element_id = driver.find_element_by_name('j_username')\n",
    "element_id.send_keys(user_id)\n",
    "\n",
    "# パスワードをインプット\n",
    "element_pass = driver.find_element_by_name('j_password')\n",
    "element_pass.send_keys(password)\n",
    "\n",
    "# ログイン実行\n",
    "element_pass.submit()\n",
    "#driver.find_element_by_id(\"FW_submitLink\").click()\n",
    "\n",
    "time.sleep(3) \n",
    "\n",
    "# 終了\n",
    "driver.quit()"
   ]
  },
  {
   "cell_type": "code",
   "execution_count": null,
   "metadata": {},
   "outputs": [],
   "source": []
  }
 ],
 "metadata": {
  "kernelspec": {
   "display_name": "Python 3",
   "language": "python",
   "name": "python3"
  },
  "language_info": {
   "codemirror_mode": {
    "name": "ipython",
    "version": 3
   },
   "file_extension": ".py",
   "mimetype": "text/x-python",
   "name": "python",
   "nbconvert_exporter": "python",
   "pygments_lexer": "ipython3",
   "version": "3.7.2"
  },
  "toc": {
   "base_numbering": 1,
   "nav_menu": {},
   "number_sections": true,
   "sideBar": true,
   "skip_h1_title": false,
   "title_cell": "Table of Contents",
   "title_sidebar": "Contents",
   "toc_cell": false,
   "toc_position": {},
   "toc_section_display": true,
   "toc_window_display": false
  }
 },
 "nbformat": 4,
 "nbformat_minor": 2
}
