{
 "cells": [
  {
   "cell_type": "markdown",
   "metadata": {},
   "source": [
    "# バンディットアルゴリズムの比較\n",
    "* トンプソンサンプリングを調べるために\n",
    "\n",
    "Ref : https://blog.albert2005.co.jp/2017/01/23/"
   ]
  },
  {
   "cell_type": "code",
   "execution_count": 111,
   "metadata": {},
   "outputs": [],
   "source": [
    "import random\n",
    "import numpy as np\n",
    "import pandas as pd\n",
    "import matplotlib.pyplot as plt\n",
    "import seaborn as sns"
   ]
  },
  {
   "cell_type": "code",
   "execution_count": 76,
   "metadata": {},
   "outputs": [],
   "source": [
    "class BernoulliArm():\n",
    " \n",
    "    def __init__(self, p):\n",
    "        self.p = p\n",
    " \n",
    "    def draw(self):\n",
    "        if np.random.rand() > self.p:\n",
    "            return 0.0\n",
    "        else:\n",
    "            return 1.0\n",
    "\n",
    "class EpsilonGreedy():\n",
    " \n",
    "    def __init__(self, epsilon, counts, values):\n",
    "        self.epsilon = epsilon\n",
    "        self.counts = counts\n",
    "        self.values = values\n",
    " \n",
    "    def initialize(self, n_arms):\n",
    "        self.counts = np.zeros(n_arms)\n",
    "        self.values = np.zeros(n_arms)\n",
    " \n",
    "    def select_arm(self):\n",
    "        if random.random() > self.epsilon:\n",
    "            return np.argmax(self.values)\n",
    "        else:\n",
    "            return random.randint(0, len(self.values) - 1)\n",
    " \n",
    "    def update(self, chosen_arm, reward):\n",
    "        self.counts[chosen_arm] = self.counts[chosen_arm] + 1\n",
    "        n = self.counts[chosen_arm]\n",
    "        value = self.values[chosen_arm]\n",
    "        new_value = ((n - 1) / float(n)) * value + (1 / float(n)) * reward\n",
    "        self.values[chosen_arm] = new_value\n",
    " \n",
    "class UCB():\n",
    " \n",
    "    def __init__(self, counts, values):\n",
    "        self.counts = counts\n",
    "        self.values = values\n",
    " \n",
    "    def initialize(self, n_arms):\n",
    "        self.counts = np.zeros(n_arms)\n",
    "        self.values = np.zeros(n_arms)\n",
    " \n",
    "    def select_arm(self):\n",
    "        n_arms = len(self.counts)\n",
    "        if min(self.counts) == 0:\n",
    "            return np.argmin(self.counts)\n",
    " \n",
    "        total_counts = sum(self.counts)\n",
    "        bonus = np.sqrt((np.log(np.array(total_counts))) /\n",
    "                        2 / np.array(self.counts))\n",
    "        ucb_values = np.array(self.values) + bonus\n",
    "        return np.argmax(ucb_values)\n",
    " \n",
    "    def update(self, chosen_arm, reward):\n",
    "        self.counts[chosen_arm] = self.counts[chosen_arm] + 1\n",
    "        n = self.counts[chosen_arm]\n",
    "        value = self.values[chosen_arm]\n",
    "        new_value = ((n - 1) / float(n)) * value + (1 / float(n)) * reward\n",
    "        self.values[chosen_arm] = new_value        \n",
    "        \n",
    "class ThompsonSampling():\n",
    "    def __init__(self, counts_alpha, counts_beta, values):\n",
    "        self.counts_alpha = counts_alpha\n",
    "        self.counts_beta = counts_beta\n",
    "        self.alpha = 1\n",
    "        self.beta = 1\n",
    "        self.values = values\n",
    " \n",
    "    def initialize(self, n_arms):\n",
    "        self.counts_alpha = np.zeros(n_arms)\n",
    "        self.counts_beta = np.zeros(n_arms)\n",
    "        self.values = np.zeros(n_arms)\n",
    " \n",
    "    def select_arm(self):\n",
    "        \"\"\"\n",
    "        N個のarmからアタリを引く確率が一番高いarmを選ぶ\n",
    "        \n",
    "        Returns\n",
    "        -------\n",
    "        best_arm_index : int\n",
    "            アタリを引く確率が一番高いarmのindex\n",
    "        \"\"\"\n",
    "        theta = [(\n",
    "            arm,\n",
    "            np.random.beta(self.counts_alpha[arm] + self.alpha, self.counts_beta[arm] + self.beta))\n",
    "            for arm in range(len(self.counts_alpha)\n",
    "        )]\n",
    "        theta = sorted(theta, key=lambda x: x[1])\n",
    "        best_arm_index = theta[-1][0]\n",
    "        return(best_arm_index)\n",
    " \n",
    "    def update(self, chosen_arm, reward):\n",
    "        \"\"\"\n",
    "        当たり(reward = 1)なら、alpha + 1。ハズレならbeta + 1\n",
    "        \n",
    "        \"\"\"\n",
    "        if reward == 1:\n",
    "            self.counts_alpha[chosen_arm] += 1\n",
    "        else:\n",
    "            self.counts_beta[chosen_arm] += 1\n",
    "        #n = float(self.counts_alpha[chosen_arm]) + self.counts_beta[chosen_arm]\n",
    "        #self.values[chosen_arm] = (n - 1) / n * self.values[chosen_arm] + 1 / n * reward"
   ]
  },
  {
   "cell_type": "code",
   "execution_count": 77,
   "metadata": {},
   "outputs": [],
   "source": [
    "def test_algorithm(algo, arms, num_sims, horizon):\n",
    "    chosen_arms = np.zeros(num_sims * horizon)\n",
    "    cumulative_rewards = np.zeros(num_sims * horizon)\n",
    "    times = np.zeros(num_sims * horizon)\n",
    "    for sim in range(num_sims):\n",
    "        algo.initialize(len(arms))\n",
    "        for t in range(horizon):\n",
    "            index = sim * horizon + t\n",
    "            times[index] = t + 1\n",
    "            chosen_arm = algo.select_arm()\n",
    "            chosen_arms[index] = chosen_arm\n",
    "            reward = arms[chosen_arm].draw()\n",
    "            if t == 0:\n",
    "                cumulative_rewards[index] = reward\n",
    "            else:\n",
    "                cumulative_rewards[index] = cumulative_rewards[\n",
    "                    index - 1] + reward\n",
    "            algo.update(chosen_arm, reward)\n",
    "    return [times, chosen_arms, cumulative_rewards]"
   ]
  },
  {
   "cell_type": "code",
   "execution_count": 110,
   "metadata": {},
   "outputs": [],
   "source": [
    "n_arms = 10\n",
    "means = [0.054,  0.069,  0.080,  0.097,  0.112,  0.119,  0.121,  0.144,  0.155,  0.174]\n",
    "epsilon = 0.2  \n",
    "sim_num = 500  # シミュレーション回数\n",
    "time = 10000  # 試行回数\n",
    " \n",
    "arms = list(map(lambda x: BernoulliArm(x), means))\n",
    " \n",
    "algo_2 = EpsilonGreedy(epsilon, [], [])  # epsilon-greedy\n",
    "algo_3 = UCB([], [])                    # UCB\n",
    "algo_4 = ThompsonSampling([], [], [])   # ThompsonSampling\n",
    "heights = []\n",
    "np.random.seed(2017)"
   ]
  },
  {
   "cell_type": "code",
   "execution_count": 92,
   "metadata": {},
   "outputs": [],
   "source": [
    "algo_2.initialize(n_arms)\n",
    "result_2 = test_algorithm(algo_2, arms, sim_num, time)\n",
    "df_result_2 = pd.DataFrame({\"times\": result_2[0], \"chosen_arms\": result_2[1]})\n",
    "df_result_2[\"best_arms\"] = (df_result_2[\"chosen_arms\"] == np.argmax(means)).astype(int)\n",
    "grouped_2 = df_result[\"best_arms\"].groupby(df_result_2[\"times\"])"
   ]
  },
  {
   "cell_type": "code",
   "execution_count": 93,
   "metadata": {},
   "outputs": [],
   "source": [
    "algo_3.initialize(n_arms)\n",
    "result_3 = test_algorithm(algo_3, arms, sim_num, time)\n",
    "df_result_3 = pd.DataFrame({\"times\": result_3[0], \"chosen_arms\": result_3[1]})\n",
    "df_result_3[\"best_arms\"] = (df_result_3[\"chosen_arms\"] == np.argmax(means)).astype(int)\n",
    "grouped_3 = df_result_3[\"best_arms\"].groupby(df_result_3[\"times\"])"
   ]
  },
  {
   "cell_type": "code",
   "execution_count": 94,
   "metadata": {},
   "outputs": [],
   "source": [
    "algo_4.initialize(n_arms)\n",
    "result_4 = test_algorithm(algo_4, arms, sim_num, time)\n",
    "df_result_4 = pd.DataFrame({\"times\": result_4[0], \"chosen_arms\": result_4[1]})\n",
    "df_result_4[\"best_arms\"] = (df_result_4[\"chosen_arms\"] == np.argmax(means)).astype(int)\n",
    "grouped_4 = df_result_4[\"best_arms\"].groupby(df_result_4[\"times\"])"
   ]
  },
  {
   "cell_type": "code",
   "execution_count": 105,
   "metadata": {},
   "outputs": [],
   "source": [
    "heights = []\n",
    "heights.append(result_2[2][-1])\n",
    "heights.append(result_3[2][-1])\n",
    "heights.append(result_4[2][-1])"
   ]
  },
  {
   "cell_type": "markdown",
   "metadata": {},
   "source": [
    "ベストアームを選べてる"
   ]
  },
  {
   "cell_type": "code",
   "execution_count": 109,
   "metadata": {},
   "outputs": [
    {
     "data": {
      "image/png": "[encoded data removed]",
      "text/plain": [
       "<Figure size 432x288 with 2 Axes>"
      ]
     },
     "metadata": {
      "needs_background": "light"
     },
     "output_type": "display_data"
    }
   ],
   "source": [
    "fig = plt.figure()\n",
    "ax1 = fig.add_subplot(121)\n",
    "ax2 = fig.add_subplot(122)\n",
    "ax1.plot(grouped_2.mean(), label=algo_2.__class__.__name__)\n",
    "ax1.plot(grouped_3.mean(), label=algo_3.__class__.__name__)\n",
    "ax1.plot(grouped_4.mean(), label=algo_4.__class__.__name__)\n",
    "ax1.set_title(\"Compare 4model - Best Arm Rate\")\n",
    "ax1.set_xlabel(\"Time\")\n",
    "ax1.set_ylabel(\"Best Arm Rate\")\n",
    "ax1.legend(loc=\"upper left\")\n",
    "plt_label = [\"Epsilon \\n Greedy\", \"UCB\", \"Tompson \\n Sampling\"]\n",
    "plt_color = [\"muted\", \"pastel\", \"bright\"]\n",
    "ax2.bar(range(1, 4), heights, color=sns.color_palette()[:3], align=\"center\")\n",
    "ax2.set_xticks(range(1, 4))\n",
    "ax2.set_xticklabels(plt_label)\n",
    "ax2.set_label(\"random_select\")\n",
    "ax2.set_ylabel(\"Cumulative Rewards\")\n",
    "ax2.set_title(\"Compare 3model - Cumulative Rewards\")\n",
    "\n",
    "plt.show()"
   ]
  },
  {
   "cell_type": "markdown",
   "metadata": {},
   "source": [
    "以下はメモ"
   ]
  },
  {
   "cell_type": "code",
   "execution_count": 64,
   "metadata": {},
   "outputs": [],
   "source": [
    "chosen_arms = np.zeros(num_sims * horizon)\n",
    "cumulative_rewards = np.zeros(num_sims * horizon)\n",
    "times = np.zeros(num_sims * horizon)\n",
    "for sim in range(num_sims):\n",
    "    algo.initialize(len(arms))\n",
    "    for t in range(horizon):\n",
    "        index = sim * horizon + t\n",
    "        times[index] = t + 1\n",
    "        chosen_arm = algo.select_arm()\n",
    "        chosen_arms[index] = chosen_arm\n",
    "        reward = arms[chosen_arm].draw()\n",
    "        if t == 0:\n",
    "            cumulative_rewards[index] = reward\n",
    "        else:\n",
    "            cumulative_rewards[index] = cumulative_rewards[index - 1] + reward\n",
    "        algo.update(chosen_arm, reward)"
   ]
  },
  {
   "cell_type": "code",
   "execution_count": 65,
   "metadata": {},
   "outputs": [
    {
     "data": {
      "text/plain": [
       "array([ 2.,  0.,  3.,  3.,  7., 26., 15., 23., 32.,  8.])"
      ]
     },
     "execution_count": 65,
     "metadata": {},
     "output_type": "execute_result"
    }
   ],
   "source": [
    "algo.counts_alpha"
   ]
  },
  {
   "cell_type": "code",
   "execution_count": 66,
   "metadata": {},
   "outputs": [
    {
     "data": {
      "text/plain": [
       "array([ 34.,  25.,  45.,  39.,  64., 174., 109., 129., 195.,  67.])"
      ]
     },
     "execution_count": 66,
     "metadata": {},
     "output_type": "execute_result"
    }
   ],
   "source": [
    "algo.counts_beta"
   ]
  },
  {
   "cell_type": "code",
   "execution_count": 67,
   "metadata": {},
   "outputs": [
    {
     "data": {
      "text/plain": [
       "array([1., 6., 9., ..., 5., 8., 0.])"
      ]
     },
     "execution_count": 67,
     "metadata": {},
     "output_type": "execute_result"
    }
   ],
   "source": [
    "chosen_arms"
   ]
  },
  {
   "cell_type": "code",
   "execution_count": 69,
   "metadata": {},
   "outputs": [],
   "source": [
    "df_result = pd.DataFrame({\"times\": times, \"chosen_arms\": chosen_arms})\n",
    "df_result[\"best_arms\"] = (df_result[\"chosen_arms\"] == np.argmax(means)).astype(int)"
   ]
  },
  {
   "cell_type": "markdown",
   "metadata": {},
   "source": [
    "1000回目くらいにはbest armを選べる確率が35%くらいになっている"
   ]
  },
  {
   "cell_type": "code",
   "execution_count": 88,
   "metadata": {},
   "outputs": [
    {
     "data": {
      "text/plain": [
       "times\n",
       "1.0        0.000\n",
       "2.0        0.000\n",
       "3.0        0.000\n",
       "4.0        0.000\n",
       "5.0        0.000\n",
       "6.0        0.000\n",
       "7.0        0.000\n",
       "8.0        0.000\n",
       "9.0        0.000\n",
       "10.0       1.000\n",
       "11.0       0.064\n",
       "12.0       0.146\n",
       "13.0       0.068\n",
       "14.0       0.090\n",
       "15.0       0.040\n",
       "16.0       0.026\n",
       "17.0       0.012\n",
       "18.0       0.004\n",
       "19.0       0.000\n",
       "20.0       0.122\n",
       "21.0       0.230\n",
       "22.0       0.270\n",
       "23.0       0.218\n",
       "24.0       0.204\n",
       "25.0       0.114\n",
       "26.0       0.106\n",
       "27.0       0.072\n",
       "28.0       0.078\n",
       "29.0       0.046\n",
       "30.0       0.068\n",
       "           ...  \n",
       "9971.0     0.628\n",
       "9972.0     0.622\n",
       "9973.0     0.610\n",
       "9974.0     0.612\n",
       "9975.0     0.598\n",
       "9976.0     0.620\n",
       "9977.0     0.614\n",
       "9978.0     0.616\n",
       "9979.0     0.608\n",
       "9980.0     0.606\n",
       "9981.0     0.622\n",
       "9982.0     0.626\n",
       "9983.0     0.630\n",
       "9984.0     0.626\n",
       "9985.0     0.606\n",
       "9986.0     0.610\n",
       "9987.0     0.616\n",
       "9988.0     0.622\n",
       "9989.0     0.602\n",
       "9990.0     0.612\n",
       "9991.0     0.616\n",
       "9992.0     0.618\n",
       "9993.0     0.618\n",
       "9994.0     0.606\n",
       "9995.0     0.612\n",
       "9996.0     0.630\n",
       "9997.0     0.628\n",
       "9998.0     0.618\n",
       "9999.0     0.620\n",
       "10000.0    0.628\n",
       "Name: best_arms, Length: 10000, dtype: float64"
      ]
     },
     "execution_count": 88,
     "metadata": {},
     "output_type": "execute_result"
    }
   ],
   "source": [
    "grouped = df_result[\"best_arms\"].groupby(df_result[\"times\"])\n",
    "grouped.mean()"
   ]
  },
  {
   "cell_type": "code",
   "execution_count": 75,
   "metadata": {},
   "outputs": [
    {
     "data": {
      "text/plain": [
       "array([  0.,   0.,   0., ..., 118., 118., 119.])"
      ]
     },
     "execution_count": 75,
     "metadata": {},
     "output_type": "execute_result"
    }
   ],
   "source": [
    "cumulative_rewards"
   ]
  },
  {
   "cell_type": "code",
   "execution_count": null,
   "metadata": {},
   "outputs": [],
   "source": []
  }
 ],
 "metadata": {
  "kernelspec": {
   "display_name": "Python 3",
   "language": "python",
   "name": "python3"
  },
  "language_info": {
   "codemirror_mode": {
    "name": "ipython",
    "version": 3
   },
   "file_extension": ".py",
   "mimetype": "text/x-python",
   "name": "python",
   "nbconvert_exporter": "python",
   "pygments_lexer": "ipython3",
   "version": "3.7.2"
  },
  "toc": {
   "base_numbering": 1,
   "nav_menu": {},
   "number_sections": true,
   "sideBar": true,
   "skip_h1_title": false,
   "title_cell": "Table of Contents",
   "title_sidebar": "Contents",
   "toc_cell": false,
   "toc_position": {},
   "toc_section_display": true,
   "toc_window_display": false
  }
 },
 "nbformat": 4,
 "nbformat_minor": 2
}
